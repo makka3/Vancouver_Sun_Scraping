{
 "cells": [
  {
   "cell_type": "code",
   "execution_count": 1,
   "metadata": {},
   "outputs": [],
   "source": [
    "import pandas as pd\n",
    "import numpy as np\n",
    "import time\n",
    "import requests\n",
    "from bs4 import BeautifulSoup\n",
    "import re"
   ]
  },
  {
   "cell_type": "code",
   "execution_count": 2,
   "metadata": {},
   "outputs": [],
   "source": [
    "news_requests = requests.get(\"https://vancouversun.com/entertainment/local-arts/seven-things-to-do-in-vancouver-june-14-20-anderson-paak-the-free-nationals-boom-more\")"
   ]
  },
  {
   "cell_type": "code",
   "execution_count": 3,
   "metadata": {},
   "outputs": [
    {
     "data": {
      "text/plain": [
       "200"
      ]
     },
     "execution_count": 3,
     "metadata": {},
     "output_type": "execute_result"
    }
   ],
   "source": [
    "news_requests.status_code"
   ]
  },
  {
   "cell_type": "code",
   "execution_count": 4,
   "metadata": {},
   "outputs": [
    {
     "data": {
      "text/plain": [
       "{'Server': 'nginx', 'Date': 'Tue, 03 Sep 2019 14:36:36 GMT', 'Content-Type': 'text/html; charset=UTF-8', 'Transfer-Encoding': 'chunked', 'Connection': 'keep-alive', 'Strict-Transport-Security': 'max-age=86400', 'Vary': 'Accept-Encoding, Cookie', 'X-hacker': \"If you're reading this, you should visit automattic.com/jobs and apply to join the fun, mention this header.\", 'P3P': 'CP=\"IDC DSP COR ADM DEVi TAIi PSA PSD IVAi IVDi CONi HIS OUR IND CNT\"', 'X-Pingback': 'https://vancouversun.com/xmlrpc.php', 'Link': '<https://vancouversun.com/wcm/b3fe2e22-9dff-4472-8037-cc9263b7954f>; rel=shortlink', 'Content-Encoding': 'gzip', 'X-ac': '1.mxp _dca '}"
      ]
     },
     "execution_count": 4,
     "metadata": {},
     "output_type": "execute_result"
    }
   ],
   "source": [
    "news_requests.headers"
   ]
  },
  {
   "cell_type": "code",
   "execution_count": 5,
   "metadata": {},
   "outputs": [
    {
     "name": "stdout",
     "output_type": "stream",
     "text": [
      "{'User-Agent': 'python-requests/2.14.2', 'Accept-Encoding': 'gzip, deflate', 'Accept': '*/*', 'Connection': 'keep-alive'}\n"
     ]
    }
   ],
   "source": [
    "print(news_requests.request.headers)"
   ]
  },
  {
   "cell_type": "code",
   "execution_count": 6,
   "metadata": {},
   "outputs": [],
   "source": [
    "week_1 = BeautifulSoup(news_requests.text,'lxml')"
   ]
  },
  {
   "cell_type": "code",
   "execution_count": null,
   "metadata": {},
   "outputs": [],
   "source": [
    "week_1"
   ]
  },
  {
   "cell_type": "code",
   "execution_count": 139,
   "metadata": {},
   "outputs": [
    {
     "data": {
      "text/plain": [
       "[]"
      ]
     },
     "execution_count": 139,
     "metadata": {},
     "output_type": "execute_result"
    }
   ],
   "source": [
    "week_1.find_all(\"table\")"
   ]
  },
  {
   "cell_type": "code",
   "execution_count": 140,
   "metadata": {},
   "outputs": [
    {
     "data": {
      "text/plain": [
       "[<h3>Anderson .Paak &amp; The Free Nationals: Best Teef in the Game Tour</h3>,\n",
       " <h3>BOOM!</h3>,\n",
       " <h3>James O’Mara — Encounters</h3>,\n",
       " <h3>5X, A South Asian Millennial Festival</h3>,\n",
       " <h3>Breakout 2019</h3>,\n",
       " <h3>Judas Priest — Firepower Tour</h3>,\n",
       " <h3>Marvel’s Jessica Jones</h3>]"
      ]
     },
     "execution_count": 140,
     "metadata": {},
     "output_type": "execute_result"
    }
   ],
   "source": [
    "week_1.find_all(\"h3\")"
   ]
  },
  {
   "cell_type": "code",
   "execution_count": 35,
   "metadata": {},
   "outputs": [],
   "source": [
    "#things.find_all(\"p\")"
   ]
  },
  {
   "cell_type": "code",
   "execution_count": 141,
   "metadata": {},
   "outputs": [
    {
     "data": {
      "text/html": [
       "<div>\n",
       "<style scoped>\n",
       "    .dataframe tbody tr th:only-of-type {\n",
       "        vertical-align: middle;\n",
       "    }\n",
       "\n",
       "    .dataframe tbody tr th {\n",
       "        vertical-align: top;\n",
       "    }\n",
       "\n",
       "    .dataframe thead th {\n",
       "        text-align: right;\n",
       "    }\n",
       "</style>\n",
       "<table border=\"1\" class=\"dataframe\">\n",
       "  <thead>\n",
       "    <tr style=\"text-align: right;\">\n",
       "      <th></th>\n",
       "      <th>Event</th>\n",
       "      <th>When</th>\n",
       "      <th>Where</th>\n",
       "    </tr>\n",
       "  </thead>\n",
       "  <tbody>\n",
       "    <tr>\n",
       "      <th>0</th>\n",
       "      <td>Anderson .Paak &amp; The Free Nationals: Best Teef...</td>\n",
       "      <td>June 19, 6:30 p.m.</td>\n",
       "      <td>PNE Forum, 2901 E. Hastings St.</td>\n",
       "    </tr>\n",
       "    <tr>\n",
       "      <th>1</th>\n",
       "      <td>BOOM!</td>\n",
       "      <td>Ongoing, daily.</td>\n",
       "      <td>Britannia Mine Museum, Britannia Beach.</td>\n",
       "    </tr>\n",
       "    <tr>\n",
       "      <th>2</th>\n",
       "      <td>James O’Mara — Encounters</td>\n",
       "      <td>Until July 13.</td>\n",
       "      <td>Elan Fine Art, 4 – 258 E. 1st Ave.</td>\n",
       "    </tr>\n",
       "    <tr>\n",
       "      <th>3</th>\n",
       "      <td>5X, A South Asian Millennial Festival</td>\n",
       "      <td>Until June 16.</td>\n",
       "      <td>Various venues, times.</td>\n",
       "    </tr>\n",
       "    <tr>\n",
       "      <th>4</th>\n",
       "      <td>Breakout 2019</td>\n",
       "      <td>June 15, 2 p.m.</td>\n",
       "      <td>PNE Amphitheatre, 2901 E. Hastings St.</td>\n",
       "    </tr>\n",
       "    <tr>\n",
       "      <th>5</th>\n",
       "      <td>Judas Priest — Firepower Tour</td>\n",
       "      <td>June 17, 7:30 p.m.</td>\n",
       "      <td>Abbotsford Centre, 33800 King Rd.</td>\n",
       "    </tr>\n",
       "    <tr>\n",
       "      <th>6</th>\n",
       "      <td>Marvel’s Jessica Jones</td>\n",
       "      <td>June 14</td>\n",
       "      <td>Netflix</td>\n",
       "    </tr>\n",
       "  </tbody>\n",
       "</table>\n",
       "</div>"
      ],
      "text/plain": [
       "                                               Event                When  \\\n",
       "0  Anderson .Paak & The Free Nationals: Best Teef...  June 19, 6:30 p.m.   \n",
       "1                                              BOOM!     Ongoing, daily.   \n",
       "2                          James O’Mara — Encounters      Until July 13.   \n",
       "3              5X, A South Asian Millennial Festival      Until June 16.   \n",
       "4                                      Breakout 2019     June 15, 2 p.m.   \n",
       "5                      Judas Priest — Firepower Tour  June 17, 7:30 p.m.   \n",
       "6                             Marvel’s Jessica Jones             June 14   \n",
       "\n",
       "                                     Where  \n",
       "0          PNE Forum, 2901 E. Hastings St.  \n",
       "1  Britannia Mine Museum, Britannia Beach.  \n",
       "2       Elan Fine Art, 4 – 258 E. 1st Ave.  \n",
       "3                   Various venues, times.  \n",
       "4   PNE Amphitheatre, 2901 E. Hastings St.  \n",
       "5        Abbotsford Centre, 33800 King Rd.  \n",
       "6                                  Netflix  "
      ]
     },
     "execution_count": 141,
     "metadata": {},
     "output_type": "execute_result"
    }
   ],
   "source": [
    "events = pd.DataFrame({\"Event\":[]})\n",
    "rows = []\n",
    "when_where = []\n",
    "df = []\n",
    "\n",
    "for i,entry in enumerate(week_1.find_all(\"h3\")):\n",
    "    events = events.append({\"Event\":entry.text.strip()},ignore_index=True) # Stripping <h3> tags\n",
    "for i,entry in enumerate(week_1.find_all(\"strong\")):\n",
    "    # Basically saying skip over every third entry (which represented the link to the website which would show up)\n",
    "    if i%3 < 2:\n",
    "        # Next sibling of the bold tags, which are the when and where entries\n",
    "        rows.append(str(entry.next_sibling))\n",
    "for i in range(len(rows)):\n",
    "    when_where.append(rows[i])\n",
    "    if (i+1)%2==0:\n",
    "        df.append(when_where)\n",
    "        when_where = []\n",
    "when_where = pd.DataFrame(df,columns = [\"When\",\"Where\"])\n",
    "when_where = when_where.replace(\": \",\"\",regex=True)\n",
    "events.join(when_where)"
   ]
  },
  {
   "cell_type": "code",
   "execution_count": 104,
   "metadata": {},
   "outputs": [],
   "source": [
    "when_where = []\n",
    "df = []\n",
    "\n",
    "for i in range(len(rows)):\n",
    "    when_where.append(rows[i])\n",
    "    if (i+1)%2==0:\n",
    "        df.append(when_where)\n",
    "        when_where = []\n",
    "when_where = pd.DataFrame(df,columns = [\"When\",\"Where\"])\n",
    "when_where = when_where.replace(\": \",\"\",regex=True)"
   ]
  },
  {
   "cell_type": "code",
   "execution_count": 110,
   "metadata": {},
   "outputs": [],
   "source": [
    "when_where = when_where.replace(\": \",\"\",regex=True)"
   ]
  },
  {
   "cell_type": "code",
   "execution_count": 111,
   "metadata": {},
   "outputs": [
    {
     "data": {
      "text/html": [
       "<div>\n",
       "<style scoped>\n",
       "    .dataframe tbody tr th:only-of-type {\n",
       "        vertical-align: middle;\n",
       "    }\n",
       "\n",
       "    .dataframe tbody tr th {\n",
       "        vertical-align: top;\n",
       "    }\n",
       "\n",
       "    .dataframe thead th {\n",
       "        text-align: right;\n",
       "    }\n",
       "</style>\n",
       "<table border=\"1\" class=\"dataframe\">\n",
       "  <thead>\n",
       "    <tr style=\"text-align: right;\">\n",
       "      <th></th>\n",
       "      <th>When</th>\n",
       "      <th>Where</th>\n",
       "    </tr>\n",
       "  </thead>\n",
       "  <tbody>\n",
       "    <tr>\n",
       "      <th>0</th>\n",
       "      <td>June 19, 6:30 p.m.</td>\n",
       "      <td>PNE Forum, 2901 E. Hastings St.</td>\n",
       "    </tr>\n",
       "    <tr>\n",
       "      <th>1</th>\n",
       "      <td>Ongoing, daily.</td>\n",
       "      <td>Britannia Mine Museum, Britannia Beach.</td>\n",
       "    </tr>\n",
       "    <tr>\n",
       "      <th>2</th>\n",
       "      <td>Until July 13.</td>\n",
       "      <td>Elan Fine Art, 4 – 258 E. 1st Ave.</td>\n",
       "    </tr>\n",
       "    <tr>\n",
       "      <th>3</th>\n",
       "      <td>Until June 16.</td>\n",
       "      <td>Various venues, times.</td>\n",
       "    </tr>\n",
       "    <tr>\n",
       "      <th>4</th>\n",
       "      <td>June 15, 2 p.m.</td>\n",
       "      <td>PNE Amphitheatre, 2901 E. Hastings St.</td>\n",
       "    </tr>\n",
       "    <tr>\n",
       "      <th>5</th>\n",
       "      <td>June 17, 7:30 p.m.</td>\n",
       "      <td>Abbotsford Centre, 33800 King Rd.</td>\n",
       "    </tr>\n",
       "    <tr>\n",
       "      <th>6</th>\n",
       "      <td>June 14</td>\n",
       "      <td>Netflix</td>\n",
       "    </tr>\n",
       "  </tbody>\n",
       "</table>\n",
       "</div>"
      ],
      "text/plain": [
       "                 When                                    Where\n",
       "0  June 19, 6:30 p.m.          PNE Forum, 2901 E. Hastings St.\n",
       "1     Ongoing, daily.  Britannia Mine Museum, Britannia Beach.\n",
       "2      Until July 13.       Elan Fine Art, 4 – 258 E. 1st Ave.\n",
       "3      Until June 16.                   Various venues, times.\n",
       "4     June 15, 2 p.m.   PNE Amphitheatre, 2901 E. Hastings St.\n",
       "5  June 17, 7:30 p.m.        Abbotsford Centre, 33800 King Rd.\n",
       "6             June 14                                  Netflix"
      ]
     },
     "execution_count": 111,
     "metadata": {},
     "output_type": "execute_result"
    }
   ],
   "source": [
    "when_where"
   ]
  },
  {
   "cell_type": "code",
   "execution_count": 142,
   "metadata": {},
   "outputs": [
    {
     "name": "stdout",
     "output_type": "stream",
     "text": [
      ": June 19, 6:30 p.m.\n",
      ": PNE Forum, 2901 E. Hastings St.\n",
      ": Ongoing, daily.\n",
      ": Britannia Mine Museum, Britannia Beach.\n",
      ": Until July 13.\n",
      ": Elan Fine Art, 4 – 258 E. 1st Ave.\n",
      ": Until June 16.\n",
      ": Various venues, times.\n",
      ": June 15, 2 p.m.\n",
      ": PNE Amphitheatre, 2901 E. Hastings St.\n",
      ": June 17, 7:30 p.m.\n",
      ": Abbotsford Centre, 33800 King Rd.\n",
      ": June 14\n",
      ": Netflix\n"
     ]
    }
   ],
   "source": [
    "for i,entry in enumerate(week_1.find_all(\"strong\")):\n",
    "    if i%3 < 2:\n",
    "        print(str(entry.next_sibling))"
   ]
  },
  {
   "cell_type": "code",
   "execution_count": 60,
   "metadata": {},
   "outputs": [
    {
     "data": {
      "text/plain": [
       "': June 19, 6:30 p.m.'"
      ]
     },
     "execution_count": 60,
     "metadata": {},
     "output_type": "execute_result"
    }
   ],
   "source": [
    "when_where.next_sibling"
   ]
  },
  {
   "cell_type": "code",
   "execution_count": 8,
   "metadata": {},
   "outputs": [],
   "source": [
    "def weekly_activities(url):\n",
    "    week_2 = requests.get(url)\n",
    "    week = BeautifulSoup(week_2.text,'lxml')\n",
    "    events = pd.DataFrame({\"Event\":[]})\n",
    "    rows = []\n",
    "    when_where = []\n",
    "    df = []\n",
    "\n",
    "    for i,entry in enumerate(week.find_all(\"h3\")):\n",
    "        events = events.append({\"Event\":entry.text.strip()},ignore_index=True) # Stripping <h3> tags\n",
    "    for i,entry in enumerate(week.find_all(\"strong\")):\n",
    "        # Basically saying skip over every third entry (which represented the link to the website which would show up)\n",
    "        if i%4 == 1 or i%4 == 2:\n",
    "            # Next sibling of the bold tags, which are the when and where entries\n",
    "            rows.append(str(entry.next_sibling))\n",
    "    for i in range(len(rows)):\n",
    "        when_where.append(rows[i])\n",
    "        if (i+1)%2==0:\n",
    "            df.append(when_where)\n",
    "            when_where = []\n",
    "    when_where = pd.DataFrame(df,columns = [\"When\",\"Where\"])\n",
    "    when_where = when_where.replace(\": \",\"\",regex=True)\n",
    "    return(events.join(when_where))"
   ]
  },
  {
   "cell_type": "markdown",
   "metadata": {},
   "source": [
    "## Week: June 7 - 13"
   ]
  },
  {
   "cell_type": "code",
   "execution_count": 117,
   "metadata": {},
   "outputs": [],
   "source": [
    "week_2 = requests.get(\"https://vancouversun.com/entertainment/local-arts/seven-things-to-do-in-vancouver-june-7-to-13-world-of-dance-mattiel-more\")"
   ]
  },
  {
   "cell_type": "code",
   "execution_count": 120,
   "metadata": {},
   "outputs": [
    {
     "data": {
      "text/plain": [
       "'OK'"
      ]
     },
     "execution_count": 120,
     "metadata": {},
     "output_type": "execute_result"
    }
   ],
   "source": [
    "week_2.status_code\n",
    "week_2.reason"
   ]
  },
  {
   "cell_type": "code",
   "execution_count": 122,
   "metadata": {},
   "outputs": [],
   "source": [
    "week = BeautifulSoup(week_2.text,'lxml')"
   ]
  },
  {
   "cell_type": "code",
   "execution_count": 136,
   "metadata": {},
   "outputs": [
    {
     "data": {
      "text/html": [
       "<div>\n",
       "<style scoped>\n",
       "    .dataframe tbody tr th:only-of-type {\n",
       "        vertical-align: middle;\n",
       "    }\n",
       "\n",
       "    .dataframe tbody tr th {\n",
       "        vertical-align: top;\n",
       "    }\n",
       "\n",
       "    .dataframe thead th {\n",
       "        text-align: right;\n",
       "    }\n",
       "</style>\n",
       "<table border=\"1\" class=\"dataframe\">\n",
       "  <thead>\n",
       "    <tr style=\"text-align: right;\">\n",
       "      <th></th>\n",
       "      <th>Event</th>\n",
       "      <th>When</th>\n",
       "      <th>Where</th>\n",
       "    </tr>\n",
       "  </thead>\n",
       "  <tbody>\n",
       "    <tr>\n",
       "      <th>0</th>\n",
       "      <td>World of Dance Live Championship Series Vancouver</td>\n",
       "      <td>June 7, 9 a.m.</td>\n",
       "      <td>Aria Banquet Hall and Convention Centre, 12350...</td>\n",
       "    </tr>\n",
       "    <tr>\n",
       "      <th>1</th>\n",
       "      <td>Mattiel</td>\n",
       "      <td>June 9, 7 p.m.</td>\n",
       "      <td>WISE Hall, 1882 Adanac</td>\n",
       "    </tr>\n",
       "    <tr>\n",
       "      <th>2</th>\n",
       "      <td>Armistad Maupin’s Tales of the City</td>\n",
       "      <td>June 7, streaming</td>\n",
       "      <td>Netflix</td>\n",
       "    </tr>\n",
       "    <tr>\n",
       "      <th>3</th>\n",
       "      <td>Doomsquad</td>\n",
       "      <td>June 7, 8 p.m.</td>\n",
       "      <td>Fortune Sound Club, 147 E. Pender</td>\n",
       "    </tr>\n",
       "    <tr>\n",
       "      <th>4</th>\n",
       "      <td>Mom’s the Word 3: Nest 1/2 Empty</td>\n",
       "      <td>Until July 20, various dates and times</td>\n",
       "      <td>Arts Club Granville Island Stage, 1585 Johnsto...</td>\n",
       "    </tr>\n",
       "    <tr>\n",
       "      <th>5</th>\n",
       "      <td>Nick Murphy a.k.a. Chet Fakr</td>\n",
       "      <td>June 9, 8 p.m.</td>\n",
       "      <td>the Commodore Ballroom, 868 Granville</td>\n",
       "    </tr>\n",
       "    <tr>\n",
       "      <th>6</th>\n",
       "      <td>Benjamin Lumb: New Life</td>\n",
       "      <td>ongoing</td>\n",
       "      <td>Grosvenor Ambleside, 1355 Bellevue Ave, W. Van.</td>\n",
       "    </tr>\n",
       "  </tbody>\n",
       "</table>\n",
       "</div>"
      ],
      "text/plain": [
       "                                               Event  \\\n",
       "0  World of Dance Live Championship Series Vancouver   \n",
       "1                                            Mattiel   \n",
       "2                Armistad Maupin’s Tales of the City   \n",
       "3                                          Doomsquad   \n",
       "4                   Mom’s the Word 3: Nest 1/2 Empty   \n",
       "5                       Nick Murphy a.k.a. Chet Fakr   \n",
       "6                            Benjamin Lumb: New Life   \n",
       "\n",
       "                                     When  \\\n",
       "0                          June 7, 9 a.m.   \n",
       "1                          June 9, 7 p.m.   \n",
       "2                       June 7, streaming   \n",
       "3                          June 7, 8 p.m.   \n",
       "4  Until July 20, various dates and times   \n",
       "5                          June 9, 8 p.m.   \n",
       "6                                 ongoing   \n",
       "\n",
       "                                               Where  \n",
       "0  Aria Banquet Hall and Convention Centre, 12350...  \n",
       "1                             WISE Hall, 1882 Adanac  \n",
       "2                                            Netflix  \n",
       "3                  Fortune Sound Club, 147 E. Pender  \n",
       "4  Arts Club Granville Island Stage, 1585 Johnsto...  \n",
       "5              the Commodore Ballroom, 868 Granville  \n",
       "6    Grosvenor Ambleside, 1355 Bellevue Ave, W. Van.  "
      ]
     },
     "execution_count": 136,
     "metadata": {},
     "output_type": "execute_result"
    }
   ],
   "source": [
    "events = pd.DataFrame({\"Event\":[]})\n",
    "rows = []\n",
    "when_where = []\n",
    "df = []\n",
    "\n",
    "for i,entry in enumerate(week.find_all(\"h3\")):\n",
    "    events = events.append({\"Event\":entry.text.strip()},ignore_index=True) # Stripping <h3> tags\n",
    "for i,entry in enumerate(week.find_all(\"strong\")):\n",
    "    # Basically saying skip over every third entry (which represented the link to the website which would show up)\n",
    "    if i%4 == 1 or i%4 == 2:\n",
    "        # Next sibling of the bold tags, which are the when and where entries\n",
    "        rows.append(str(entry.next_sibling))\n",
    "for i in range(len(rows)):\n",
    "    when_where.append(rows[i])\n",
    "    if (i+1)%2==0:\n",
    "        df.append(when_where)\n",
    "        when_where = []\n",
    "when_where = pd.DataFrame(df,columns = [\"When\",\"Where\"])\n",
    "when_where = when_where.replace(\": \",\"\",regex=True)\n",
    "events.join(when_where)"
   ]
  },
  {
   "cell_type": "code",
   "execution_count": 153,
   "metadata": {},
   "outputs": [
    {
     "data": {
      "text/html": [
       "<div>\n",
       "<style scoped>\n",
       "    .dataframe tbody tr th:only-of-type {\n",
       "        vertical-align: middle;\n",
       "    }\n",
       "\n",
       "    .dataframe tbody tr th {\n",
       "        vertical-align: top;\n",
       "    }\n",
       "\n",
       "    .dataframe thead th {\n",
       "        text-align: right;\n",
       "    }\n",
       "</style>\n",
       "<table border=\"1\" class=\"dataframe\">\n",
       "  <thead>\n",
       "    <tr style=\"text-align: right;\">\n",
       "      <th></th>\n",
       "      <th>Event</th>\n",
       "      <th>When</th>\n",
       "      <th>Where</th>\n",
       "    </tr>\n",
       "  </thead>\n",
       "  <tbody>\n",
       "    <tr>\n",
       "      <th>0</th>\n",
       "      <td>World of Dance Live Championship Series Vancouver</td>\n",
       "      <td>June 7, 9 a.m.</td>\n",
       "      <td>Aria Banquet Hall and Convention Centre, 12350...</td>\n",
       "    </tr>\n",
       "    <tr>\n",
       "      <th>1</th>\n",
       "      <td>Mattiel</td>\n",
       "      <td>June 9, 7 p.m.</td>\n",
       "      <td>WISE Hall, 1882 Adanac</td>\n",
       "    </tr>\n",
       "    <tr>\n",
       "      <th>2</th>\n",
       "      <td>Armistad Maupin’s Tales of the City</td>\n",
       "      <td>June 7, streaming</td>\n",
       "      <td>Netflix</td>\n",
       "    </tr>\n",
       "    <tr>\n",
       "      <th>3</th>\n",
       "      <td>Doomsquad</td>\n",
       "      <td>June 7, 8 p.m.</td>\n",
       "      <td>Fortune Sound Club, 147 E. Pender</td>\n",
       "    </tr>\n",
       "    <tr>\n",
       "      <th>4</th>\n",
       "      <td>Mom’s the Word 3: Nest 1/2 Empty</td>\n",
       "      <td>Until July 20, various dates and times</td>\n",
       "      <td>Arts Club Granville Island Stage, 1585 Johnsto...</td>\n",
       "    </tr>\n",
       "    <tr>\n",
       "      <th>5</th>\n",
       "      <td>Nick Murphy a.k.a. Chet Fakr</td>\n",
       "      <td>June 9, 8 p.m.</td>\n",
       "      <td>the Commodore Ballroom, 868 Granville</td>\n",
       "    </tr>\n",
       "    <tr>\n",
       "      <th>6</th>\n",
       "      <td>Benjamin Lumb: New Life</td>\n",
       "      <td>ongoing</td>\n",
       "      <td>Grosvenor Ambleside, 1355 Bellevue Ave, W. Van.</td>\n",
       "    </tr>\n",
       "  </tbody>\n",
       "</table>\n",
       "</div>"
      ],
      "text/plain": [
       "                                               Event  \\\n",
       "0  World of Dance Live Championship Series Vancouver   \n",
       "1                                            Mattiel   \n",
       "2                Armistad Maupin’s Tales of the City   \n",
       "3                                          Doomsquad   \n",
       "4                   Mom’s the Word 3: Nest 1/2 Empty   \n",
       "5                       Nick Murphy a.k.a. Chet Fakr   \n",
       "6                            Benjamin Lumb: New Life   \n",
       "\n",
       "                                     When  \\\n",
       "0                          June 7, 9 a.m.   \n",
       "1                          June 9, 7 p.m.   \n",
       "2                       June 7, streaming   \n",
       "3                          June 7, 8 p.m.   \n",
       "4  Until July 20, various dates and times   \n",
       "5                          June 9, 8 p.m.   \n",
       "6                                 ongoing   \n",
       "\n",
       "                                               Where  \n",
       "0  Aria Banquet Hall and Convention Centre, 12350...  \n",
       "1                             WISE Hall, 1882 Adanac  \n",
       "2                                            Netflix  \n",
       "3                  Fortune Sound Club, 147 E. Pender  \n",
       "4  Arts Club Granville Island Stage, 1585 Johnsto...  \n",
       "5              the Commodore Ballroom, 868 Granville  \n",
       "6    Grosvenor Ambleside, 1355 Bellevue Ave, W. Van.  "
      ]
     },
     "execution_count": 153,
     "metadata": {},
     "output_type": "execute_result"
    }
   ],
   "source": [
    "# Using function\n",
    "\n",
    "weekly_activities(\"https://vancouversun.com/entertainment/local-arts/seven-things-to-do-in-vancouver-june-7-to-13-world-of-dance-mattiel-more\")"
   ]
  },
  {
   "cell_type": "markdown",
   "metadata": {},
   "source": [
    "## Week: May 24 - 30"
   ]
  },
  {
   "cell_type": "code",
   "execution_count": 143,
   "metadata": {},
   "outputs": [],
   "source": [
    "may_4 = requests.get(\"https://vancouversun.com/entertainment/local-arts/seven-things-to-do-in-vancouver-may-24-30-alessia-cara-black-mother-and-more\")"
   ]
  },
  {
   "cell_type": "code",
   "execution_count": 145,
   "metadata": {},
   "outputs": [],
   "source": [
    "week_5 = BeautifulSoup(may_4.text,'lxml')"
   ]
  },
  {
   "cell_type": "code",
   "execution_count": 147,
   "metadata": {},
   "outputs": [
    {
     "data": {
      "text/html": [
       "<div>\n",
       "<style scoped>\n",
       "    .dataframe tbody tr th:only-of-type {\n",
       "        vertical-align: middle;\n",
       "    }\n",
       "\n",
       "    .dataframe tbody tr th {\n",
       "        vertical-align: top;\n",
       "    }\n",
       "\n",
       "    .dataframe thead th {\n",
       "        text-align: right;\n",
       "    }\n",
       "</style>\n",
       "<table border=\"1\" class=\"dataframe\">\n",
       "  <thead>\n",
       "    <tr style=\"text-align: right;\">\n",
       "      <th></th>\n",
       "      <th>Event</th>\n",
       "      <th>When</th>\n",
       "      <th>Where</th>\n",
       "    </tr>\n",
       "  </thead>\n",
       "  <tbody>\n",
       "    <tr>\n",
       "      <th>0</th>\n",
       "      <td>Runaway Jane</td>\n",
       "      <td>May 25, 8 p.m.</td>\n",
       "      <td>Rogers Arena, 800 Griffiths Way</td>\n",
       "    </tr>\n",
       "    <tr>\n",
       "      <th>1</th>\n",
       "      <td>Mat Holstrom: Arcadia</td>\n",
       "      <td>Until May 26, various times</td>\n",
       "      <td>VanDusen Botanical Garden, 5251 Oak St.</td>\n",
       "    </tr>\n",
       "    <tr>\n",
       "      <th>2</th>\n",
       "      <td>Black Mother</td>\n",
       "      <td>Until May 24, various times</td>\n",
       "      <td>The Cinematheque, 1131 Howe St.</td>\n",
       "    </tr>\n",
       "    <tr>\n",
       "      <th>3</th>\n",
       "      <td>Nav: Bad Habits Tour</td>\n",
       "      <td>May 26, 7 p.m.</td>\n",
       "      <td>PNE Forum, 2901 E. Hastings St.</td>\n",
       "    </tr>\n",
       "    <tr>\n",
       "      <th>4</th>\n",
       "      <td>I Walked the Line</td>\n",
       "      <td>May 25-27, 2 p.m.; May 24, 8 p.m.</td>\n",
       "      <td>Anvil Centre, 777 Columbia St., New Westminster</td>\n",
       "    </tr>\n",
       "    <tr>\n",
       "      <th>5</th>\n",
       "      <td>Sunday Morning</td>\n",
       "      <td>May 25, 8 p.m.</td>\n",
       "      <td>The Fox Cabaret, 2321 Main St.</td>\n",
       "    </tr>\n",
       "    <tr>\n",
       "      <th>6</th>\n",
       "      <td>Hard Rubber Orchestra meets New York Heavies</td>\n",
       "      <td>May 25, 8 p.m.</td>\n",
       "      <td>Fei and Milton Wong Experimental Theatre, Gold...</td>\n",
       "    </tr>\n",
       "  </tbody>\n",
       "</table>\n",
       "</div>"
      ],
      "text/plain": [
       "                                          Event  \\\n",
       "0                                  Runaway Jane   \n",
       "1                         Mat Holstrom: Arcadia   \n",
       "2                                  Black Mother   \n",
       "3                          Nav: Bad Habits Tour   \n",
       "4                             I Walked the Line   \n",
       "5                                Sunday Morning   \n",
       "6  Hard Rubber Orchestra meets New York Heavies   \n",
       "\n",
       "                                When  \\\n",
       "0                     May 25, 8 p.m.   \n",
       "1        Until May 26, various times   \n",
       "2        Until May 24, various times   \n",
       "3                     May 26, 7 p.m.   \n",
       "4  May 25-27, 2 p.m.; May 24, 8 p.m.   \n",
       "5                     May 25, 8 p.m.   \n",
       "6                     May 25, 8 p.m.   \n",
       "\n",
       "                                               Where  \n",
       "0                    Rogers Arena, 800 Griffiths Way  \n",
       "1            VanDusen Botanical Garden, 5251 Oak St.  \n",
       "2                    The Cinematheque, 1131 Howe St.  \n",
       "3                    PNE Forum, 2901 E. Hastings St.  \n",
       "4    Anvil Centre, 777 Columbia St., New Westminster  \n",
       "5                     The Fox Cabaret, 2321 Main St.  \n",
       "6  Fei and Milton Wong Experimental Theatre, Gold...  "
      ]
     },
     "execution_count": 147,
     "metadata": {},
     "output_type": "execute_result"
    }
   ],
   "source": [
    "events = pd.DataFrame({\"Event\":[]})\n",
    "rows = []\n",
    "when_where = []\n",
    "df = []\n",
    "\n",
    "for i,entry in enumerate(week_5.find_all(\"h3\")):\n",
    "    events = events.append({\"Event\":entry.text.strip()},ignore_index=True) # Stripping <h3> tags\n",
    "for i,entry in enumerate(week_5.find_all(\"strong\")):\n",
    "    # Basically saying skip over every third entry (which represented the link to the website which would show up)\n",
    "    if i%3 < 2:\n",
    "    # Next sibling of the bold tags, which are the when and where entries\n",
    "        rows.append(str(entry.next_sibling))\n",
    "for i in range(len(rows)):\n",
    "    when_where.append(rows[i])\n",
    "    if (i+1)%2==0:\n",
    "        df.append(when_where)\n",
    "        when_where = []\n",
    "when_where = pd.DataFrame(df,columns = [\"When\",\"Where\"])\n",
    "when_where = when_where.replace(\": \",\"\",regex=True)\n",
    "events.join(when_where)"
   ]
  },
  {
   "cell_type": "markdown",
   "metadata": {},
   "source": [
    "## Week: May 17 - 23"
   ]
  },
  {
   "cell_type": "code",
   "execution_count": 148,
   "metadata": {},
   "outputs": [],
   "source": [
    "may_3 = requests.get(\"https://vancouversun.com/entertainment/local-arts/seven-things-to-do-in-vancouver-may-17-23-cloverdale-rodeo-elle-king-and-more\")"
   ]
  },
  {
   "cell_type": "code",
   "execution_count": 150,
   "metadata": {},
   "outputs": [],
   "source": [
    "week_6 = BeautifulSoup(may_3.text,'lxml')"
   ]
  },
  {
   "cell_type": "code",
   "execution_count": 151,
   "metadata": {},
   "outputs": [
    {
     "data": {
      "text/html": [
       "<div>\n",
       "<style scoped>\n",
       "    .dataframe tbody tr th:only-of-type {\n",
       "        vertical-align: middle;\n",
       "    }\n",
       "\n",
       "    .dataframe tbody tr th {\n",
       "        vertical-align: top;\n",
       "    }\n",
       "\n",
       "    .dataframe thead th {\n",
       "        text-align: right;\n",
       "    }\n",
       "</style>\n",
       "<table border=\"1\" class=\"dataframe\">\n",
       "  <thead>\n",
       "    <tr style=\"text-align: right;\">\n",
       "      <th></th>\n",
       "      <th>Event</th>\n",
       "      <th>When</th>\n",
       "      <th>Where</th>\n",
       "    </tr>\n",
       "  </thead>\n",
       "  <tbody>\n",
       "    <tr>\n",
       "      <th>0</th>\n",
       "      <td>Cloverdale Rodeo and Country Fair</td>\n",
       "      <td>May 17-20, various times.</td>\n",
       "      <td>Cloverdale Exhibition Grounds, Surrey</td>\n",
       "    </tr>\n",
       "    <tr>\n",
       "      <th>1</th>\n",
       "      <td>Matilda: The Musical</td>\n",
       "      <td>Until July 14, various times.</td>\n",
       "      <td>Stanley Industrial Alliance Stage, 2750 Granvi...</td>\n",
       "    </tr>\n",
       "    <tr>\n",
       "      <th>2</th>\n",
       "      <td>Opera Mariposa: The Impossible Dream</td>\n",
       "      <td>May 18, 7:30 p.m.</td>\n",
       "      <td>St. Helen’s Anglican Church, 4405 W. 8th Ave.</td>\n",
       "    </tr>\n",
       "    <tr>\n",
       "      <th>3</th>\n",
       "      <td>Elle King: Shaking the Spirit Tour</td>\n",
       "      <td>May 21, 8 p.m.</td>\n",
       "      <td>Commodore Ballroom, 868 Granville St.</td>\n",
       "    </tr>\n",
       "    <tr>\n",
       "      <th>4</th>\n",
       "      <td>Jan de Beer: Tides</td>\n",
       "      <td>Opens May 21, 6 p.m.</td>\n",
       "      <td>Science World, 1455 Quebec St.</td>\n",
       "    </tr>\n",
       "    <tr>\n",
       "      <th>5</th>\n",
       "      <td>Suzie Vinnick</td>\n",
       "      <td>May 17, 7:30 p.m.</td>\n",
       "      <td>The ANZA Club, 3 West 8th Ave.</td>\n",
       "    </tr>\n",
       "    <tr>\n",
       "      <th>6</th>\n",
       "      <td>The Specials — Encore 40th Anniversary Tour</td>\n",
       "      <td>May 22, 8 p.m.</td>\n",
       "      <td>Commodore Ballroom, 868 Granville St.</td>\n",
       "    </tr>\n",
       "  </tbody>\n",
       "</table>\n",
       "</div>"
      ],
      "text/plain": [
       "                                         Event                           When  \\\n",
       "0            Cloverdale Rodeo and Country Fair      May 17-20, various times.   \n",
       "1                         Matilda: The Musical  Until July 14, various times.   \n",
       "2         Opera Mariposa: The Impossible Dream              May 18, 7:30 p.m.   \n",
       "3           Elle King: Shaking the Spirit Tour                 May 21, 8 p.m.   \n",
       "4                           Jan de Beer: Tides           Opens May 21, 6 p.m.   \n",
       "5                                Suzie Vinnick              May 17, 7:30 p.m.   \n",
       "6  The Specials — Encore 40th Anniversary Tour                 May 22, 8 p.m.   \n",
       "\n",
       "                                               Where  \n",
       "0              Cloverdale Exhibition Grounds, Surrey  \n",
       "1  Stanley Industrial Alliance Stage, 2750 Granvi...  \n",
       "2      St. Helen’s Anglican Church, 4405 W. 8th Ave.  \n",
       "3              Commodore Ballroom, 868 Granville St.  \n",
       "4                     Science World, 1455 Quebec St.  \n",
       "5                     The ANZA Club, 3 West 8th Ave.  \n",
       "6              Commodore Ballroom, 868 Granville St.  "
      ]
     },
     "execution_count": 151,
     "metadata": {},
     "output_type": "execute_result"
    }
   ],
   "source": [
    "events = pd.DataFrame({\"Event\":[]})\n",
    "rows = []\n",
    "when_where = []\n",
    "df = []\n",
    "\n",
    "for i,entry in enumerate(week_6.find_all(\"h3\")):\n",
    "    events = events.append({\"Event\":entry.text.strip()},ignore_index=True) # Stripping <h3> tags\n",
    "for i,entry in enumerate(week_6.find_all(\"strong\")):\n",
    "    # Basically saying skip over every third entry (which represented the link to the website which would show up)\n",
    "    if i%3 < 2:\n",
    "    # Next sibling of the bold tags, which are the when and where entries\n",
    "        rows.append(str(entry.next_sibling))\n",
    "for i in range(len(rows)):\n",
    "    when_where.append(rows[i])\n",
    "    if (i+1)%2==0:\n",
    "        df.append(when_where)\n",
    "        when_where = []\n",
    "when_where = pd.DataFrame(df,columns = [\"When\",\"Where\"])\n",
    "when_where = when_where.replace(\": \",\"\",regex=True)\n",
    "events.join(when_where)"
   ]
  },
  {
   "cell_type": "markdown",
   "metadata": {},
   "source": [
    "## Week of Sep 2"
   ]
  },
  {
   "cell_type": "code",
   "execution_count": 9,
   "metadata": {},
   "outputs": [
    {
     "data": {
      "text/html": [
       "<div>\n",
       "<style scoped>\n",
       "    .dataframe tbody tr th:only-of-type {\n",
       "        vertical-align: middle;\n",
       "    }\n",
       "\n",
       "    .dataframe tbody tr th {\n",
       "        vertical-align: top;\n",
       "    }\n",
       "\n",
       "    .dataframe thead th {\n",
       "        text-align: right;\n",
       "    }\n",
       "</style>\n",
       "<table border=\"1\" class=\"dataframe\">\n",
       "  <thead>\n",
       "    <tr style=\"text-align: right;\">\n",
       "      <th></th>\n",
       "      <th>Event</th>\n",
       "      <th>When</th>\n",
       "      <th>Where</th>\n",
       "    </tr>\n",
       "  </thead>\n",
       "  <tbody>\n",
       "    <tr>\n",
       "      <th>0</th>\n",
       "      <td>Iron Maiden Legacy of the Beast Tour</td>\n",
       "      <td>Pepsi Live at Rogers Arena</td>\n",
       "      <td>From $45 at</td>\n",
       "    </tr>\n",
       "    <tr>\n",
       "      <th>1</th>\n",
       "      <td>The Dark Crystal: Age of Resistance</td>\n",
       "      <td>Netflix</td>\n",
       "      <td></td>\n",
       "    </tr>\n",
       "    <tr>\n",
       "      <th>2</th>\n",
       "      <td>Bryan Ferry</td>\n",
       "      <td>From $45 at</td>\n",
       "      <td>Various days and times</td>\n",
       "    </tr>\n",
       "    <tr>\n",
       "      <th>3</th>\n",
       "      <td>Lily Lau Eagle Claw Kung Fu Canada</td>\n",
       "      <td>Sept. 5, 5:30 p.m.</td>\n",
       "      <td>Malkin Bowl, Stanley Park</td>\n",
       "    </tr>\n",
       "    <tr>\n",
       "      <th>4</th>\n",
       "      <td>Death Cab for Cutie</td>\n",
       "      <td>BMO Mainstage, Bard on the Beach, Vanier Park</td>\n",
       "      <td></td>\n",
       "    </tr>\n",
       "    <tr>\n",
       "      <th>5</th>\n",
       "      <td>Shakespeare in Love</td>\n",
       "      <td>$25 at</td>\n",
       "      <td>None</td>\n",
       "    </tr>\n",
       "    <tr>\n",
       "      <th>6</th>\n",
       "      <td>Lindsay Beaver</td>\n",
       "      <td>NaN</td>\n",
       "      <td>NaN</td>\n",
       "    </tr>\n",
       "  </tbody>\n",
       "</table>\n",
       "</div>"
      ],
      "text/plain": [
       "                                  Event  \\\n",
       "0  Iron Maiden Legacy of the Beast Tour   \n",
       "1   The Dark Crystal: Age of Resistance   \n",
       "2                           Bryan Ferry   \n",
       "3    Lily Lau Eagle Claw Kung Fu Canada   \n",
       "4                   Death Cab for Cutie   \n",
       "5                   Shakespeare in Love   \n",
       "6                        Lindsay Beaver   \n",
       "\n",
       "                                            When                      Where  \n",
       "0                     Pepsi Live at Rogers Arena               From $45 at   \n",
       "1                                        Netflix                             \n",
       "2                                   From $45 at      Various days and times  \n",
       "3                             Sept. 5, 5:30 p.m.  Malkin Bowl, Stanley Park  \n",
       "4  BMO Mainstage, Bard on the Beach, Vanier Park                             \n",
       "5                                        $25 at                        None  \n",
       "6                                            NaN                        NaN  "
      ]
     },
     "execution_count": 9,
     "metadata": {},
     "output_type": "execute_result"
    }
   ],
   "source": [
    "weekly_activities(\"https://vancouversun.com/entertainment/music/seven-things-to-do-in-vancouver-aug-30-sept-5-iron-maiden-the-dark-crystal-age-of-resistance-more\")"
   ]
  },
  {
   "cell_type": "code",
   "execution_count": 12,
   "metadata": {},
   "outputs": [],
   "source": [
    "sep_2 = requests.get(\"https://vancouversun.com/entertainment/music/seven-things-to-do-in-vancouver-aug-30-sept-5-iron-maiden-the-dark-crystal-age-of-resistance-more\")"
   ]
  },
  {
   "cell_type": "code",
   "execution_count": 15,
   "metadata": {},
   "outputs": [
    {
     "data": {
      "text/plain": [
       "<Response [200]>"
      ]
     },
     "execution_count": 15,
     "metadata": {},
     "output_type": "execute_result"
    }
   ],
   "source": [
    "sep_2"
   ]
  },
  {
   "cell_type": "code",
   "execution_count": 17,
   "metadata": {},
   "outputs": [],
   "source": [
    "week = BeautifulSoup(sep_2.text,'lxml')"
   ]
  },
  {
   "cell_type": "code",
   "execution_count": 31,
   "metadata": {},
   "outputs": [
    {
     "data": {
      "text/plain": [
       "[<strong>When</strong>,\n",
       " <strong>Where</strong>,\n",
       " <strong>Tickets and info</strong>,\n",
       " <strong>The Dark Crystal: Age of Resistance</strong>,\n",
       " <strong>When</strong>,\n",
       " <strong>Where</strong>,\n",
       " <strong>Tickets and info</strong>,\n",
       " <strong>When</strong>,\n",
       " <strong>Where</strong>,\n",
       " <strong>Tickets and info</strong>,\n",
       " <strong>When</strong>,\n",
       " <strong>Where</strong>,\n",
       " <strong>Tickets and info</strong>,\n",
       " <strong>When</strong>,\n",
       " <strong>Where</strong>,\n",
       " <strong>Tickets and info</strong>,\n",
       " <strong>When</strong>,\n",
       " <strong>Where</strong>,\n",
       " <strong>Tickets and info</strong>,\n",
       " <strong>When</strong>,\n",
       " <strong>Where</strong>,\n",
       " <strong>Tickets and info</strong>,\n",
       " <strong><a href=\"http://pubads.g.doubleclick.net/gampad/clk?id=359262301&amp;iu=/3081/ccn.com\" target=\"_blank\" title=\"INDOCHINO\">INDOCHINO</a></strong>]"
      ]
     },
     "execution_count": 31,
     "metadata": {},
     "output_type": "execute_result"
    }
   ],
   "source": [
    "week.find_all('strong')"
   ]
  },
  {
   "cell_type": "code",
   "execution_count": 34,
   "metadata": {},
   "outputs": [
    {
     "name": "stdout",
     "output_type": "stream",
     "text": [
      "0 : Sept. 3, 6 p.m.\n",
      "4 : August 30\n",
      "7 : Sept. 5, 6:30 p.m.\n",
      "10 : Various days and times\n",
      "13 : Sept. 5, 5:30 p.m.\n",
      "16 : Until Sept. 18, various times/dates\n",
      "19 : Aug. 30, 7:30 p.m.\n"
     ]
    }
   ],
   "source": [
    "for i,entry in enumerate(week.find_all('strong')):\n",
    "    if str(entry.text) == \"When\":\n",
    "        print(i,str(entry.next_sibling))"
   ]
  },
  {
   "cell_type": "code",
   "execution_count": null,
   "metadata": {},
   "outputs": [],
   "source": [
    "def weekly_activities(url):\n",
    "    week_2 = requests.get(url)\n",
    "    week = BeautifulSoup(week_2.text,'lxml')\n",
    "    events = pd.DataFrame({\"Event\":[]})\n",
    "    rows = []\n",
    "    when_where = []\n",
    "    df = []\n",
    "\n",
    "    for i,entry in enumerate(week.find_all(\"h3\")):\n",
    "        events = events.append({\"Event\":entry.text.strip()},ignore_index=True) # Stripping <h3> tags\n",
    "    for i,entry in enumerate(week.find_all(\"strong\")):\n",
    "        # Basically saying skip over every third entry (which represented the link to the website which would show up)\n",
    "        if i%4 == 1 or i%4 == 2:\n",
    "            # Next sibling of the bold tags, which are the when and where entries\n",
    "            rows.append(str(entry.next_sibling))\n",
    "    for i in range(len(rows)):\n",
    "        when_where.append(rows[i])\n",
    "        if (i+1)%2==0:\n",
    "            df.append(when_where)\n",
    "            when_where = []\n",
    "    when_where = pd.DataFrame(df,columns = [\"When\",\"Where\"])\n",
    "    when_where = when_where.replace(\": \",\"\",regex=True)\n",
    "    return(events.join(when_where))"
   ]
  }
 ],
 "metadata": {
  "kernelspec": {
   "display_name": "Python 3",
   "language": "python",
   "name": "python3"
  },
  "language_info": {
   "codemirror_mode": {
    "name": "ipython",
    "version": 3
   },
   "file_extension": ".py",
   "mimetype": "text/x-python",
   "name": "python",
   "nbconvert_exporter": "python",
   "pygments_lexer": "ipython3",
   "version": "3.6.7"
  }
 },
 "nbformat": 4,
 "nbformat_minor": 2
}
